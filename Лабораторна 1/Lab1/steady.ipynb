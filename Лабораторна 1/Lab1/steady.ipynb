{
 "cells": [
  {
   "metadata": {},
   "cell_type": "markdown",
   "source": "## Згенерувати нормальний закон розподілу\n",
   "id": "cd2b23076267706d"
  },
  {
   "metadata": {
    "collapsed": true,
    "ExecuteTime": {
     "end_time": "2024-09-17T14:35:35.104516Z",
     "start_time": "2024-09-17T14:35:34.985157Z"
    }
   },
   "cell_type": "code",
   "source": [
    "import numpy as np\n",
    "from numpy.random import uniform, seed\n",
    "from numpy.typing import NDArray\n",
    "from typing import Tuple, Union\n",
    "\n",
    "def random_nums(size: int = None, interval: Tuple[float, float] = (0.0, 1.0)) -> Union[float, NDArray]:\n",
    "    \"\"\"Generate random numbers from interval\"\"\"\n",
    "    return uniform(*interval, size)"
   ],
   "id": "initial_id",
   "outputs": [],
   "execution_count": 1
  },
  {
   "metadata": {
    "ExecuteTime": {
     "end_time": "2024-09-17T14:35:35.491848Z",
     "start_time": "2024-09-17T14:35:35.468733Z"
    }
   },
   "cell_type": "code",
   "source": [
    "# A and C parameters for generating\n",
    "A = 5**13\n",
    "C = 2**31\n",
    "# Number of generating\n",
    "N = 10000\n",
    "\n",
    "def steady(size: int, a: int, c: int):\n",
    "    \"\"\"Generator of uniform distribution\"\"\"\n",
    "    # Initialize array for z\n",
    "    z = np.empty(size)\n",
    "    \n",
    "    # Initialize first value\n",
    "    z[0] = random_nums(interval=(0, c))\n",
    "    \n",
    "    # Generate the rest of z\n",
    "    for i in range(1, size):\n",
    "        z[i] = (a * z[i - 1]) % c\n",
    "    \n",
    "    # Normalize z to be in the interval [0, 1)\n",
    "    x = z / c\n",
    "    \n",
    "    return x\n",
    "\n",
    "def density_steady(x):\n",
    "    return np.where((0. <= x) & (x <= 1.), 1., 0.)\n",
    "    \n",
    "\n",
    "# Our generated values\n",
    "x_uniform = steady(N, A, C)\n",
    "print(\"Normal generated number:\", x_uniform[:5])  \n",
    "print(\"Min and max values:\", min(x_uniform), max(x_uniform))"
   ],
   "id": "1e3595e7e365a05",
   "outputs": [
    {
     "name": "stdout",
     "output_type": "stream",
     "text": [
      "Normal generated number: [0.03206293 0.06959761 0.21526435 0.9607636  0.11629367]\n",
      "Min and max values: 0.00025534629821777344 0.9999778270721436\n"
     ]
    }
   ],
   "execution_count": 2
  },
  {
   "metadata": {
    "ExecuteTime": {
     "end_time": "2024-09-17T14:35:36.713766Z",
     "start_time": "2024-09-17T14:35:36.686725Z"
    }
   },
   "cell_type": "code",
   "source": [
    "# Number of intervals\n",
    "bins_num = 20\n",
    "# Minimum number of interval\n",
    "min_number = 5\n",
    "\n",
    "counts, edges = np.histogram(x_uniform, bins=bins_num)\n",
    "print(\"Number of values in each interval:\")\n",
    "print(\"- before merging\", counts)\n",
    "\n",
    "# Merging intervals\n",
    "accumulated_count, bin_edges = 0, [edges[0]]\n",
    "for new_count, edge in zip(counts, edges[1:]):\n",
    "    accumulated_count += new_count\n",
    "    if accumulated_count >= min_number:\n",
    "        bin_edges.append(edge)\n",
    "        accumulated_count = 0\n",
    "if counts[-1] < min_number:\n",
    "    bin_edges.pop(-1)\n",
    "    bin_edges.append(edges[-1])\n",
    "\n",
    "\n",
    "new_intervals, _ = np.histogram(x_uniform, bins=bin_edges)\n",
    "print(\"- after merging\", new_intervals)"
   ],
   "id": "eb0bad606b1c50f2",
   "outputs": [
    {
     "name": "stdout",
     "output_type": "stream",
     "text": [
      "Number of values in each interval:\n",
      "- before merging [501 499 486 470 515 467 535 465 498 497 468 495 527 526 544 501 506 505\n",
      " 514 481]\n",
      "- after merging [501 499 486 470 515 467 535 465 498 497 468 495 527 526 544 501 506 505\n",
      " 514 481]\n"
     ]
    }
   ],
   "execution_count": 3
  },
  {
   "metadata": {
    "ExecuteTime": {
     "end_time": "2024-09-17T14:35:38.748555Z",
     "start_time": "2024-09-17T14:35:37.869877Z"
    }
   },
   "cell_type": "code",
   "source": [
    "from matplotlib import pyplot as plt\n",
    "from statistics import mean, variance, stdev\n",
    "\n",
    "plt.figure(figsize=(10, 6))\n",
    "plt.title(\"Uniform Distribution\")\n",
    "plt.hist(x_uniform, bins=bin_edges)\n",
    "\n",
    "\n",
    "_, special_edges = np.histogram(x_uniform, bins=bins_num)\n",
    "for edge in special_edges:\n",
    "    plt.axvline(edge, color='green', linestyle='--', alpha=0.1)\n",
    "    \n",
    "    \n",
    "# Plot vertical lines at the bin edges\n",
    "for edge in bin_edges:\n",
    "    plt.axvline(edge, color='red', linestyle='--', alpha=0.8)\n",
    "    \n",
    "print(\"Mean of distribution: \", mean(x_uniform))\n",
    "print(\"Variance of distribution:\", variance(x_uniform))\n",
    "\n",
    "plt.xlabel('Data values')\n",
    "plt.ylabel('Frequency')\n",
    "plt.show()"
   ],
   "id": "c249f30bfe862a13",
   "outputs": [
    {
     "name": "stdout",
     "output_type": "stream",
     "text": [
      "Mean of distribution:  0.5033008095249402\n",
      "Variance of distribution: 0.08302367649945253\n"
     ]
    },
    {
     "data": {
      "text/plain": [
       "<Figure size 1000x600 with 1 Axes>"
      ],
      "image/png": "[encoded data removed]"
     },
     "metadata": {},
     "output_type": "display_data"
    }
   ],
   "execution_count": 4
  },
  {
   "metadata": {
    "ExecuteTime": {
     "end_time": "2024-09-17T14:36:14.483253Z",
     "start_time": "2024-09-17T14:36:14.467121Z"
    }
   },
   "cell_type": "code",
   "source": [
    "# Calculating chi squared\n",
    "# Calculating middles and width of intervals\n",
    "bin_mids = np.array([(bin_edges[i] + bin_edges[i+1]) / 2 for i in range(len(bin_edges) - 1)])\n",
    "bin_width = np.array([bin_edges[i+1] - bin_edges[i] for i in range(len(bin_edges) - 1)])"
   ],
   "id": "fc0399996c4d84b8",
   "outputs": [],
   "execution_count": 5
  },
  {
   "metadata": {
    "ExecuteTime": {
     "end_time": "2024-09-17T14:36:14.642266Z",
     "start_time": "2024-09-17T14:36:14.633815Z"
    }
   },
   "cell_type": "code",
   "source": [
    "# Determine the expected probability and theoretical values\n",
    "expected_prob = density_steady(bin_mids) * bin_width\n",
    "theoretical_values = 10000 * expected_prob\n",
    "print(\"Theoretical values\")\n",
    "for value in theoretical_values:\n",
    "    print(int(value), end=' ')"
   ],
   "id": "7d5a1058bfce2d2c",
   "outputs": [
    {
     "name": "stdout",
     "output_type": "stream",
     "text": [
      "Theoretical values\n",
      "499 499 499 499 499 499 499 499 499 499 499 499 499 499 499 499 499 499 499 499 "
     ]
    }
   ],
   "execution_count": 6
  },
  {
   "metadata": {
    "ExecuteTime": {
     "end_time": "2024-09-17T14:36:16.721929Z",
     "start_time": "2024-09-17T14:36:15.586770Z"
    }
   },
   "cell_type": "code",
   "source": [
    "from scipy.stats import chi2_contingency\n",
    "\n",
    "data = [new_intervals, theoretical_values]\n",
    "stat, p, dof, expected = chi2_contingency(data)\n",
    "\n",
    "# interpret p-value\n",
    "alpha = 0.05\n",
    "print(\"p value is \" + str(p))\n",
    "if p <= alpha:\n",
    "    print('Two distributions are independent')\n",
    "else:\n",
    "    print('Two distributions are dependent')"
   ],
   "id": "cb32cea9379f243f",
   "outputs": [
    {
     "name": "stdout",
     "output_type": "stream",
     "text": [
      "p value is 0.9560762615417853\n",
      "Two distributions are dependent\n"
     ]
    }
   ],
   "execution_count": 7
  },
  {
   "metadata": {},
   "cell_type": "code",
   "outputs": [],
   "execution_count": null,
   "source": "",
   "id": "e17fd47c01af2782"
  }
 ],
 "metadata": {
  "kernelspec": {
   "display_name": "Python 3",
   "language": "python",
   "name": "python3"
  },
  "language_info": {
   "codemirror_mode": {
    "name": "ipython",
    "version": 2
   },
   "file_extension": ".py",
   "mimetype": "text/x-python",
   "name": "python",
   "nbconvert_exporter": "python",
   "pygments_lexer": "ipython2",
   "version": "2.7.6"
  }
 },
 "nbformat": 4,
 "nbformat_minor": 5
}
